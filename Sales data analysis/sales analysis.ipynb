{
 "cells": [
  {
   "cell_type": "code",
   "execution_count": 1,
   "id": "10c2ccb7",
   "metadata": {},
   "outputs": [],
   "source": [
    "import pandas as pd\n",
    "import matplotlib.pyplot as plt"
   ]
  },
  {
   "cell_type": "markdown",
   "id": "2c9afc9f",
   "metadata": {},
   "source": [
    "## combine all the months data into one dataframe"
   ]
  },
  {
   "cell_type": "code",
   "execution_count": 3,
   "id": "733b24a0",
   "metadata": {},
   "outputs": [],
   "source": [
    "import os\n",
    " \n",
    "folder_path = \"C:\\\\Users\\\\LENOVO\\\\Desktop\\\\Sales_Data\"\n",
    "    \n",
    "# List to store individual DataFrames\n",
    "dfs = []\n",
    "\n",
    "# Loop through each file in the directory\n",
    "for filename in os.listdir(folder_path):\n",
    "    if filename.endswith('.csv'):\n",
    "        # Read the CSV file and append it to the list\n",
    "        file_path = os.path.join(folder_path, filename)\n",
    "        df = pd.read_csv(file_path)\n",
    "        dfs.append(df)\n",
    "\n",
    "# Concatenate all DataFrames in the list\n",
    "combined_df = pd.concat(dfs, ignore_index=True)\n",
    "\n"
   ]
  },
  {
   "cell_type": "code",
   "execution_count": 4,
   "id": "4f8c56d4",
   "metadata": {},
   "outputs": [
    {
     "data": {
      "text/html": [
       "<div>\n",
       "<style scoped>\n",
       "    .dataframe tbody tr th:only-of-type {\n",
       "        vertical-align: middle;\n",
       "    }\n",
       "\n",
       "    .dataframe tbody tr th {\n",
       "        vertical-align: top;\n",
       "    }\n",
       "\n",
       "    .dataframe thead th {\n",
       "        text-align: right;\n",
       "    }\n",
       "</style>\n",
       "<table border=\"1\" class=\"dataframe\">\n",
       "  <thead>\n",
       "    <tr style=\"text-align: right;\">\n",
       "      <th></th>\n",
       "      <th>Order ID</th>\n",
       "      <th>Product</th>\n",
       "      <th>Quantity Ordered</th>\n",
       "      <th>Price Each</th>\n",
       "      <th>Order Date</th>\n",
       "      <th>Purchase Address</th>\n",
       "    </tr>\n",
       "  </thead>\n",
       "  <tbody>\n",
       "    <tr>\n",
       "      <th>0</th>\n",
       "      <td>176558</td>\n",
       "      <td>USB-C Charging Cable</td>\n",
       "      <td>2</td>\n",
       "      <td>11.95</td>\n",
       "      <td>04/19/19 08:46</td>\n",
       "      <td>917 1st St, Dallas, TX 75001</td>\n",
       "    </tr>\n",
       "    <tr>\n",
       "      <th>1</th>\n",
       "      <td>NaN</td>\n",
       "      <td>NaN</td>\n",
       "      <td>NaN</td>\n",
       "      <td>NaN</td>\n",
       "      <td>NaN</td>\n",
       "      <td>NaN</td>\n",
       "    </tr>\n",
       "    <tr>\n",
       "      <th>2</th>\n",
       "      <td>176559</td>\n",
       "      <td>Bose SoundSport Headphones</td>\n",
       "      <td>1</td>\n",
       "      <td>99.99</td>\n",
       "      <td>04/07/19 22:30</td>\n",
       "      <td>682 Chestnut St, Boston, MA 02215</td>\n",
       "    </tr>\n",
       "    <tr>\n",
       "      <th>3</th>\n",
       "      <td>176560</td>\n",
       "      <td>Google Phone</td>\n",
       "      <td>1</td>\n",
       "      <td>600</td>\n",
       "      <td>04/12/19 14:38</td>\n",
       "      <td>669 Spruce St, Los Angeles, CA 90001</td>\n",
       "    </tr>\n",
       "    <tr>\n",
       "      <th>4</th>\n",
       "      <td>176560</td>\n",
       "      <td>Wired Headphones</td>\n",
       "      <td>1</td>\n",
       "      <td>11.99</td>\n",
       "      <td>04/12/19 14:38</td>\n",
       "      <td>669 Spruce St, Los Angeles, CA 90001</td>\n",
       "    </tr>\n",
       "    <tr>\n",
       "      <th>...</th>\n",
       "      <td>...</td>\n",
       "      <td>...</td>\n",
       "      <td>...</td>\n",
       "      <td>...</td>\n",
       "      <td>...</td>\n",
       "      <td>...</td>\n",
       "    </tr>\n",
       "    <tr>\n",
       "      <th>186845</th>\n",
       "      <td>259353</td>\n",
       "      <td>AAA Batteries (4-pack)</td>\n",
       "      <td>3</td>\n",
       "      <td>2.99</td>\n",
       "      <td>09/17/19 20:56</td>\n",
       "      <td>840 Highland St, Los Angeles, CA 90001</td>\n",
       "    </tr>\n",
       "    <tr>\n",
       "      <th>186846</th>\n",
       "      <td>259354</td>\n",
       "      <td>iPhone</td>\n",
       "      <td>1</td>\n",
       "      <td>700</td>\n",
       "      <td>09/01/19 16:00</td>\n",
       "      <td>216 Dogwood St, San Francisco, CA 94016</td>\n",
       "    </tr>\n",
       "    <tr>\n",
       "      <th>186847</th>\n",
       "      <td>259355</td>\n",
       "      <td>iPhone</td>\n",
       "      <td>1</td>\n",
       "      <td>700</td>\n",
       "      <td>09/23/19 07:39</td>\n",
       "      <td>220 12th St, San Francisco, CA 94016</td>\n",
       "    </tr>\n",
       "    <tr>\n",
       "      <th>186848</th>\n",
       "      <td>259356</td>\n",
       "      <td>34in Ultrawide Monitor</td>\n",
       "      <td>1</td>\n",
       "      <td>379.99</td>\n",
       "      <td>09/19/19 17:30</td>\n",
       "      <td>511 Forest St, San Francisco, CA 94016</td>\n",
       "    </tr>\n",
       "    <tr>\n",
       "      <th>186849</th>\n",
       "      <td>259357</td>\n",
       "      <td>USB-C Charging Cable</td>\n",
       "      <td>1</td>\n",
       "      <td>11.95</td>\n",
       "      <td>09/30/19 00:18</td>\n",
       "      <td>250 Meadow St, San Francisco, CA 94016</td>\n",
       "    </tr>\n",
       "  </tbody>\n",
       "</table>\n",
       "<p>186850 rows × 6 columns</p>\n",
       "</div>"
      ],
      "text/plain": [
       "       Order ID                     Product Quantity Ordered Price Each  \\\n",
       "0        176558        USB-C Charging Cable                2      11.95   \n",
       "1           NaN                         NaN              NaN        NaN   \n",
       "2        176559  Bose SoundSport Headphones                1      99.99   \n",
       "3        176560                Google Phone                1        600   \n",
       "4        176560            Wired Headphones                1      11.99   \n",
       "...         ...                         ...              ...        ...   \n",
       "186845   259353      AAA Batteries (4-pack)                3       2.99   \n",
       "186846   259354                      iPhone                1        700   \n",
       "186847   259355                      iPhone                1        700   \n",
       "186848   259356      34in Ultrawide Monitor                1     379.99   \n",
       "186849   259357        USB-C Charging Cable                1      11.95   \n",
       "\n",
       "            Order Date                         Purchase Address  \n",
       "0       04/19/19 08:46             917 1st St, Dallas, TX 75001  \n",
       "1                  NaN                                      NaN  \n",
       "2       04/07/19 22:30        682 Chestnut St, Boston, MA 02215  \n",
       "3       04/12/19 14:38     669 Spruce St, Los Angeles, CA 90001  \n",
       "4       04/12/19 14:38     669 Spruce St, Los Angeles, CA 90001  \n",
       "...                ...                                      ...  \n",
       "186845  09/17/19 20:56   840 Highland St, Los Angeles, CA 90001  \n",
       "186846  09/01/19 16:00  216 Dogwood St, San Francisco, CA 94016  \n",
       "186847  09/23/19 07:39     220 12th St, San Francisco, CA 94016  \n",
       "186848  09/19/19 17:30   511 Forest St, San Francisco, CA 94016  \n",
       "186849  09/30/19 00:18   250 Meadow St, San Francisco, CA 94016  \n",
       "\n",
       "[186850 rows x 6 columns]"
      ]
     },
     "execution_count": 4,
     "metadata": {},
     "output_type": "execute_result"
    }
   ],
   "source": [
    "df = pd.DataFrame(combined_df)\n",
    "df"
   ]
  },
  {
   "cell_type": "markdown",
   "id": "cdaf2715",
   "metadata": {},
   "source": [
    "## data preprocessing"
   ]
  },
  {
   "cell_type": "code",
   "execution_count": 6,
   "id": "6a534feb",
   "metadata": {},
   "outputs": [
    {
     "data": {
      "text/plain": [
       "Order ID            545\n",
       "Product             545\n",
       "Quantity Ordered    545\n",
       "Price Each          545\n",
       "Order Date          545\n",
       "Purchase Address    545\n",
       "dtype: int64"
      ]
     },
     "execution_count": 6,
     "metadata": {},
     "output_type": "execute_result"
    }
   ],
   "source": [
    "df.isnull().sum()"
   ]
  },
  {
   "cell_type": "code",
   "execution_count": 7,
   "id": "43675658",
   "metadata": {},
   "outputs": [],
   "source": [
    "df.dropna(inplace = True)"
   ]
  },
  {
   "cell_type": "code",
   "execution_count": 8,
   "id": "ea01e619",
   "metadata": {},
   "outputs": [
    {
     "data": {
      "text/plain": [
       "Order ID            object\n",
       "Product             object\n",
       "Quantity Ordered    object\n",
       "Price Each          object\n",
       "Order Date          object\n",
       "Purchase Address    object\n",
       "dtype: object"
      ]
     },
     "execution_count": 8,
     "metadata": {},
     "output_type": "execute_result"
    }
   ],
   "source": [
    "df.dtypes"
   ]
  },
  {
   "cell_type": "code",
   "execution_count": 9,
   "id": "6b4bc5cb",
   "metadata": {},
   "outputs": [],
   "source": [
    "a = df['Quantity Ordered'] == 'Quantity Ordered'"
   ]
  },
  {
   "cell_type": "code",
   "execution_count": 10,
   "id": "7454728e",
   "metadata": {},
   "outputs": [],
   "source": [
    "b = df.loc[a, :].index"
   ]
  },
  {
   "cell_type": "code",
   "execution_count": 11,
   "id": "71780a83",
   "metadata": {},
   "outputs": [],
   "source": [
    "df.drop(b, inplace = True)"
   ]
  },
  {
   "cell_type": "code",
   "execution_count": 12,
   "id": "9a72820e",
   "metadata": {},
   "outputs": [],
   "source": [
    "df[['Quantity Ordered', 'Price Each']] = df[['Quantity Ordered', 'Price Each']].astype(float)"
   ]
  },
  {
   "cell_type": "code",
   "execution_count": 13,
   "id": "dc7149a3",
   "metadata": {},
   "outputs": [],
   "source": [
    "df['Order ID'] = df['Order ID'].astype(int)"
   ]
  },
  {
   "cell_type": "code",
   "execution_count": 14,
   "id": "5850fbf5",
   "metadata": {},
   "outputs": [
    {
     "data": {
      "text/plain": [
       "Order ID              int32\n",
       "Product              object\n",
       "Quantity Ordered    float64\n",
       "Price Each          float64\n",
       "Order Date           object\n",
       "Purchase Address     object\n",
       "dtype: object"
      ]
     },
     "execution_count": 14,
     "metadata": {},
     "output_type": "execute_result"
    }
   ],
   "source": [
    "df.dtypes"
   ]
  },
  {
   "cell_type": "code",
   "execution_count": 15,
   "id": "2da3b2f0",
   "metadata": {},
   "outputs": [],
   "source": [
    "df['Order Date'] = pd.to_datetime(df['Order Date'])"
   ]
  },
  {
   "cell_type": "code",
   "execution_count": 16,
   "id": "a6f99b58",
   "metadata": {},
   "outputs": [
    {
     "data": {
      "text/plain": [
       "Order ID                     int32\n",
       "Product                     object\n",
       "Quantity Ordered           float64\n",
       "Price Each                 float64\n",
       "Order Date          datetime64[ns]\n",
       "Purchase Address            object\n",
       "dtype: object"
      ]
     },
     "execution_count": 16,
     "metadata": {},
     "output_type": "execute_result"
    }
   ],
   "source": [
    "df.dtypes"
   ]
  },
  {
   "cell_type": "code",
   "execution_count": 17,
   "id": "cc81172e",
   "metadata": {},
   "outputs": [
    {
     "data": {
      "text/html": [
       "<div>\n",
       "<style scoped>\n",
       "    .dataframe tbody tr th:only-of-type {\n",
       "        vertical-align: middle;\n",
       "    }\n",
       "\n",
       "    .dataframe tbody tr th {\n",
       "        vertical-align: top;\n",
       "    }\n",
       "\n",
       "    .dataframe thead th {\n",
       "        text-align: right;\n",
       "    }\n",
       "</style>\n",
       "<table border=\"1\" class=\"dataframe\">\n",
       "  <thead>\n",
       "    <tr style=\"text-align: right;\">\n",
       "      <th></th>\n",
       "      <th>Order ID</th>\n",
       "      <th>Product</th>\n",
       "      <th>Quantity Ordered</th>\n",
       "      <th>Price Each</th>\n",
       "      <th>Order Date</th>\n",
       "      <th>Purchase Address</th>\n",
       "    </tr>\n",
       "  </thead>\n",
       "  <tbody>\n",
       "    <tr>\n",
       "      <th>0</th>\n",
       "      <td>176558</td>\n",
       "      <td>USB-C Charging Cable</td>\n",
       "      <td>2.0</td>\n",
       "      <td>11.95</td>\n",
       "      <td>2019-04-19 08:46:00</td>\n",
       "      <td>917 1st St, Dallas, TX 75001</td>\n",
       "    </tr>\n",
       "    <tr>\n",
       "      <th>2</th>\n",
       "      <td>176559</td>\n",
       "      <td>Bose SoundSport Headphones</td>\n",
       "      <td>1.0</td>\n",
       "      <td>99.99</td>\n",
       "      <td>2019-04-07 22:30:00</td>\n",
       "      <td>682 Chestnut St, Boston, MA 02215</td>\n",
       "    </tr>\n",
       "    <tr>\n",
       "      <th>3</th>\n",
       "      <td>176560</td>\n",
       "      <td>Google Phone</td>\n",
       "      <td>1.0</td>\n",
       "      <td>600.00</td>\n",
       "      <td>2019-04-12 14:38:00</td>\n",
       "      <td>669 Spruce St, Los Angeles, CA 90001</td>\n",
       "    </tr>\n",
       "    <tr>\n",
       "      <th>4</th>\n",
       "      <td>176560</td>\n",
       "      <td>Wired Headphones</td>\n",
       "      <td>1.0</td>\n",
       "      <td>11.99</td>\n",
       "      <td>2019-04-12 14:38:00</td>\n",
       "      <td>669 Spruce St, Los Angeles, CA 90001</td>\n",
       "    </tr>\n",
       "    <tr>\n",
       "      <th>5</th>\n",
       "      <td>176561</td>\n",
       "      <td>Wired Headphones</td>\n",
       "      <td>1.0</td>\n",
       "      <td>11.99</td>\n",
       "      <td>2019-04-30 09:27:00</td>\n",
       "      <td>333 8th St, Los Angeles, CA 90001</td>\n",
       "    </tr>\n",
       "  </tbody>\n",
       "</table>\n",
       "</div>"
      ],
      "text/plain": [
       "   Order ID                     Product  Quantity Ordered  Price Each  \\\n",
       "0    176558        USB-C Charging Cable               2.0       11.95   \n",
       "2    176559  Bose SoundSport Headphones               1.0       99.99   \n",
       "3    176560                Google Phone               1.0      600.00   \n",
       "4    176560            Wired Headphones               1.0       11.99   \n",
       "5    176561            Wired Headphones               1.0       11.99   \n",
       "\n",
       "           Order Date                      Purchase Address  \n",
       "0 2019-04-19 08:46:00          917 1st St, Dallas, TX 75001  \n",
       "2 2019-04-07 22:30:00     682 Chestnut St, Boston, MA 02215  \n",
       "3 2019-04-12 14:38:00  669 Spruce St, Los Angeles, CA 90001  \n",
       "4 2019-04-12 14:38:00  669 Spruce St, Los Angeles, CA 90001  \n",
       "5 2019-04-30 09:27:00     333 8th St, Los Angeles, CA 90001  "
      ]
     },
     "execution_count": 17,
     "metadata": {},
     "output_type": "execute_result"
    }
   ],
   "source": [
    "df.head()"
   ]
  },
  {
   "cell_type": "markdown",
   "id": "3ee9efb0",
   "metadata": {},
   "source": [
    "## data analysis"
   ]
  },
  {
   "cell_type": "markdown",
   "id": "b4848aa7",
   "metadata": {},
   "source": [
    "## Q1: what was the best month for sales? and how much money was earned that month?"
   ]
  },
  {
   "cell_type": "markdown",
   "id": "740bac03",
   "metadata": {},
   "source": [
    "## we will make a separate column for the total amount"
   ]
  },
  {
   "cell_type": "code",
   "execution_count": 21,
   "id": "d02c2955",
   "metadata": {},
   "outputs": [],
   "source": [
    "df['total amount'] = df['Quantity Ordered'] * df['Price Each']"
   ]
  },
  {
   "cell_type": "markdown",
   "id": "7d55bd9f",
   "metadata": {},
   "source": [
    "## we will extract the month name from the date in the separate column"
   ]
  },
  {
   "cell_type": "code",
   "execution_count": 23,
   "id": "b1736a67",
   "metadata": {},
   "outputs": [],
   "source": [
    "df['month'] = df['Order Date'].dt.strftime('%B')"
   ]
  },
  {
   "cell_type": "code",
   "execution_count": 24,
   "id": "34c7facb",
   "metadata": {},
   "outputs": [
    {
     "data": {
      "text/html": [
       "<div>\n",
       "<style scoped>\n",
       "    .dataframe tbody tr th:only-of-type {\n",
       "        vertical-align: middle;\n",
       "    }\n",
       "\n",
       "    .dataframe tbody tr th {\n",
       "        vertical-align: top;\n",
       "    }\n",
       "\n",
       "    .dataframe thead th {\n",
       "        text-align: right;\n",
       "    }\n",
       "</style>\n",
       "<table border=\"1\" class=\"dataframe\">\n",
       "  <thead>\n",
       "    <tr style=\"text-align: right;\">\n",
       "      <th></th>\n",
       "      <th>Order ID</th>\n",
       "      <th>Product</th>\n",
       "      <th>Quantity Ordered</th>\n",
       "      <th>Price Each</th>\n",
       "      <th>Order Date</th>\n",
       "      <th>Purchase Address</th>\n",
       "      <th>total amount</th>\n",
       "      <th>month</th>\n",
       "    </tr>\n",
       "  </thead>\n",
       "  <tbody>\n",
       "    <tr>\n",
       "      <th>0</th>\n",
       "      <td>176558</td>\n",
       "      <td>USB-C Charging Cable</td>\n",
       "      <td>2.0</td>\n",
       "      <td>11.95</td>\n",
       "      <td>2019-04-19 08:46:00</td>\n",
       "      <td>917 1st St, Dallas, TX 75001</td>\n",
       "      <td>23.90</td>\n",
       "      <td>April</td>\n",
       "    </tr>\n",
       "    <tr>\n",
       "      <th>2</th>\n",
       "      <td>176559</td>\n",
       "      <td>Bose SoundSport Headphones</td>\n",
       "      <td>1.0</td>\n",
       "      <td>99.99</td>\n",
       "      <td>2019-04-07 22:30:00</td>\n",
       "      <td>682 Chestnut St, Boston, MA 02215</td>\n",
       "      <td>99.99</td>\n",
       "      <td>April</td>\n",
       "    </tr>\n",
       "  </tbody>\n",
       "</table>\n",
       "</div>"
      ],
      "text/plain": [
       "   Order ID                     Product  Quantity Ordered  Price Each  \\\n",
       "0    176558        USB-C Charging Cable               2.0       11.95   \n",
       "2    176559  Bose SoundSport Headphones               1.0       99.99   \n",
       "\n",
       "           Order Date                   Purchase Address  total amount  month  \n",
       "0 2019-04-19 08:46:00       917 1st St, Dallas, TX 75001         23.90  April  \n",
       "2 2019-04-07 22:30:00  682 Chestnut St, Boston, MA 02215         99.99  April  "
      ]
     },
     "execution_count": 24,
     "metadata": {},
     "output_type": "execute_result"
    }
   ],
   "source": [
    "df.head(2)"
   ]
  },
  {
   "cell_type": "code",
   "execution_count": 25,
   "id": "7c824de3",
   "metadata": {},
   "outputs": [],
   "source": [
    "gmonth = df.groupby('month')"
   ]
  },
  {
   "cell_type": "code",
   "execution_count": 26,
   "id": "11439a61",
   "metadata": {},
   "outputs": [
    {
     "data": {
      "text/plain": [
       "<Axes: xlabel='month'>"
      ]
     },
     "execution_count": 26,
     "metadata": {},
     "output_type": "execute_result"
    },
    {
     "data": {
      "image/png": "[encoded data removed]",
      "text/plain": [
       "<Figure size 640x480 with 1 Axes>"
      ]
     },
     "metadata": {},
     "output_type": "display_data"
    }
   ],
   "source": [
    "gmonth['Order ID'].nunique().sort_values(ascending = False).plot(kind = 'bar')"
   ]
  },
  {
   "cell_type": "markdown",
   "id": "cdf3ff7d",
   "metadata": {},
   "source": [
    "## from the above graph we can see that highest number of orders were placed during december"
   ]
  },
  {
   "cell_type": "code",
   "execution_count": 28,
   "id": "d56055c6",
   "metadata": {},
   "outputs": [],
   "source": [
    "dec = df['month'] == 'December'"
   ]
  },
  {
   "cell_type": "code",
   "execution_count": 29,
   "id": "42552787",
   "metadata": {},
   "outputs": [
    {
     "name": "stdout",
     "output_type": "stream",
     "text": [
      "the total amount made during the month of December were:\n"
     ]
    },
    {
     "data": {
      "text/plain": [
       "total amount    4613443.34\n",
       "dtype: float64"
      ]
     },
     "execution_count": 29,
     "metadata": {},
     "output_type": "execute_result"
    }
   ],
   "source": [
    "print(\"the total amount made during the month of December were:\")\n",
    "df.loc[dec, ['total amount']].sum()"
   ]
  },
  {
   "cell_type": "markdown",
   "id": "a8c86dc3",
   "metadata": {},
   "source": [
    "## what city has the highest number of sales?"
   ]
  },
  {
   "cell_type": "markdown",
   "id": "f0c21f0a",
   "metadata": {},
   "source": [
    "## we will make a separate column for cities"
   ]
  },
  {
   "cell_type": "code",
   "execution_count": 32,
   "id": "4bdff893",
   "metadata": {},
   "outputs": [],
   "source": [
    "df['City'] = df['Purchase Address'].apply(lambda x: x.split(',')[1].strip())"
   ]
  },
  {
   "cell_type": "code",
   "execution_count": 33,
   "id": "73bb2cd8",
   "metadata": {},
   "outputs": [
    {
     "data": {
      "text/html": [
       "<div>\n",
       "<style scoped>\n",
       "    .dataframe tbody tr th:only-of-type {\n",
       "        vertical-align: middle;\n",
       "    }\n",
       "\n",
       "    .dataframe tbody tr th {\n",
       "        vertical-align: top;\n",
       "    }\n",
       "\n",
       "    .dataframe thead th {\n",
       "        text-align: right;\n",
       "    }\n",
       "</style>\n",
       "<table border=\"1\" class=\"dataframe\">\n",
       "  <thead>\n",
       "    <tr style=\"text-align: right;\">\n",
       "      <th></th>\n",
       "      <th>Order ID</th>\n",
       "      <th>Product</th>\n",
       "      <th>Quantity Ordered</th>\n",
       "      <th>Price Each</th>\n",
       "      <th>Order Date</th>\n",
       "      <th>Purchase Address</th>\n",
       "      <th>total amount</th>\n",
       "      <th>month</th>\n",
       "      <th>City</th>\n",
       "    </tr>\n",
       "  </thead>\n",
       "  <tbody>\n",
       "    <tr>\n",
       "      <th>0</th>\n",
       "      <td>176558</td>\n",
       "      <td>USB-C Charging Cable</td>\n",
       "      <td>2.0</td>\n",
       "      <td>11.95</td>\n",
       "      <td>2019-04-19 08:46:00</td>\n",
       "      <td>917 1st St, Dallas, TX 75001</td>\n",
       "      <td>23.90</td>\n",
       "      <td>April</td>\n",
       "      <td>Dallas</td>\n",
       "    </tr>\n",
       "    <tr>\n",
       "      <th>2</th>\n",
       "      <td>176559</td>\n",
       "      <td>Bose SoundSport Headphones</td>\n",
       "      <td>1.0</td>\n",
       "      <td>99.99</td>\n",
       "      <td>2019-04-07 22:30:00</td>\n",
       "      <td>682 Chestnut St, Boston, MA 02215</td>\n",
       "      <td>99.99</td>\n",
       "      <td>April</td>\n",
       "      <td>Boston</td>\n",
       "    </tr>\n",
       "  </tbody>\n",
       "</table>\n",
       "</div>"
      ],
      "text/plain": [
       "   Order ID                     Product  Quantity Ordered  Price Each  \\\n",
       "0    176558        USB-C Charging Cable               2.0       11.95   \n",
       "2    176559  Bose SoundSport Headphones               1.0       99.99   \n",
       "\n",
       "           Order Date                   Purchase Address  total amount  month  \\\n",
       "0 2019-04-19 08:46:00       917 1st St, Dallas, TX 75001         23.90  April   \n",
       "2 2019-04-07 22:30:00  682 Chestnut St, Boston, MA 02215         99.99  April   \n",
       "\n",
       "     City  \n",
       "0  Dallas  \n",
       "2  Boston  "
      ]
     },
     "execution_count": 33,
     "metadata": {},
     "output_type": "execute_result"
    }
   ],
   "source": [
    "df.head(2)"
   ]
  },
  {
   "cell_type": "code",
   "execution_count": 34,
   "id": "cc78534e",
   "metadata": {},
   "outputs": [],
   "source": [
    "gcity = df.groupby('City')"
   ]
  },
  {
   "cell_type": "code",
   "execution_count": 35,
   "id": "271f9441",
   "metadata": {},
   "outputs": [
    {
     "data": {
      "text/plain": [
       "<Axes: xlabel='City'>"
      ]
     },
     "execution_count": 35,
     "metadata": {},
     "output_type": "execute_result"
    },
    {
     "data": {
      "image/png": "[encoded data removed]",
      "text/plain": [
       "<Figure size 640x480 with 1 Axes>"
      ]
     },
     "metadata": {},
     "output_type": "display_data"
    }
   ],
   "source": [
    "gcity['Order ID'].nunique().sort_values(ascending= False).plot(kind = 'bar')"
   ]
  },
  {
   "cell_type": "markdown",
   "id": "d5e8ccf8",
   "metadata": {},
   "source": [
    "## from the above graph we can see that San Francisco had the highest number of customers"
   ]
  },
  {
   "cell_type": "code",
   "execution_count": 37,
   "id": "18ef33c7",
   "metadata": {},
   "outputs": [],
   "source": [
    "sf = df['City'] == 'San Francisco'"
   ]
  },
  {
   "cell_type": "markdown",
   "id": "e4cb1dad",
   "metadata": {},
   "source": [
    "## now we will see how much amount San Francisco made "
   ]
  },
  {
   "cell_type": "code",
   "execution_count": 39,
   "id": "6a024e82",
   "metadata": {},
   "outputs": [
    {
     "data": {
      "text/plain": [
       "8262203.91"
      ]
     },
     "execution_count": 39,
     "metadata": {},
     "output_type": "execute_result"
    }
   ],
   "source": [
    "df.loc[sf, 'total amount'].sum().round(2)"
   ]
  },
  {
   "cell_type": "markdown",
   "id": "b848d059",
   "metadata": {},
   "source": [
    "## what time should we display advertisements to maximize the likehood of customer buying products?"
   ]
  },
  {
   "cell_type": "markdown",
   "id": "aaa58b9c",
   "metadata": {},
   "source": [
    "## we will add a separate column for the hour"
   ]
  },
  {
   "cell_type": "code",
   "execution_count": 42,
   "id": "6c6463a9",
   "metadata": {},
   "outputs": [],
   "source": [
    "df['Hour'] = df['Order Date'].dt.strftime('%H')"
   ]
  },
  {
   "cell_type": "code",
   "execution_count": 43,
   "id": "cac4eafe",
   "metadata": {},
   "outputs": [],
   "source": [
    "ghour = df.groupby('Hour')"
   ]
  },
  {
   "cell_type": "code",
   "execution_count": 44,
   "id": "ef87a0d9",
   "metadata": {},
   "outputs": [
    {
     "data": {
      "text/plain": [
       "Text(0.5, 1.0, 'customer arrival during each hour')"
      ]
     },
     "execution_count": 44,
     "metadata": {},
     "output_type": "execute_result"
    },
    {
     "data": {
      "image/png": "[encoded data removed]",
      "text/plain": [
       "<Figure size 640x480 with 1 Axes>"
      ]
     },
     "metadata": {},
     "output_type": "display_data"
    }
   ],
   "source": [
    "ghour['Order ID'].nunique().sort_values(ascending = False).plot(kind = 'line')\n",
    "plt.xlabel('hour')\n",
    "plt.ylabel('customers')\n",
    "plt.title(\"customer arrival during each hour\")"
   ]
  },
  {
   "cell_type": "code",
   "execution_count": 45,
   "id": "8364b0f6",
   "metadata": {},
   "outputs": [
    {
     "data": {
      "text/plain": [
       "Hour\n",
       "19    12377\n",
       "12    12082\n",
       "11    11882\n",
       "Name: Order ID, dtype: int64"
      ]
     },
     "execution_count": 45,
     "metadata": {},
     "output_type": "execute_result"
    }
   ],
   "source": [
    "ghour['Order ID'].nunique().sort_values(ascending = False).head(3)"
   ]
  },
  {
   "cell_type": "markdown",
   "id": "2d5f6382",
   "metadata": {},
   "source": [
    "## as we can see from the above graph that highest number of customers came at 7 pm"
   ]
  },
  {
   "cell_type": "code",
   "execution_count": 47,
   "id": "b59099ca",
   "metadata": {},
   "outputs": [],
   "source": [
    "seven = df['Hour'] = '7'"
   ]
  },
  {
   "cell_type": "markdown",
   "id": "9888af8c",
   "metadata": {},
   "source": [
    "## what products are often sold together?"
   ]
  },
  {
   "cell_type": "code",
   "execution_count": 89,
   "id": "b25b7c00",
   "metadata": {},
   "outputs": [
    {
     "name": "stdout",
     "output_type": "stream",
     "text": [
      "Products: ('iPhone', 'Lightning Charging Cable'), Frequency: 1005\n",
      "Products: ('Google Phone', 'USB-C Charging Cable'), Frequency: 987\n",
      "Products: ('iPhone', 'Wired Headphones'), Frequency: 447\n",
      "Products: ('Google Phone', 'Wired Headphones'), Frequency: 414\n",
      "Products: ('Vareebadd Phone', 'USB-C Charging Cable'), Frequency: 361\n",
      "Products: ('iPhone', 'Apple Airpods Headphones'), Frequency: 360\n",
      "Products: ('Google Phone', 'Bose SoundSport Headphones'), Frequency: 220\n",
      "Products: ('USB-C Charging Cable', 'Wired Headphones'), Frequency: 160\n",
      "Products: ('Vareebadd Phone', 'Wired Headphones'), Frequency: 143\n",
      "Products: ('Lightning Charging Cable', 'Wired Headphones'), Frequency: 92\n"
     ]
    }
   ],
   "source": [
    "from itertools import combinations\n",
    "\n",
    "grouped = df.groupby('Order ID')['Product'].apply(list)\n",
    "\n",
    "product_pairs = {}\n",
    "\n",
    "for products in grouped:\n",
    "    pairs = list(combinations(products, 2))\n",
    "    for pair in pairs:\n",
    "        if pair in product_pairs:\n",
    "            product_pairs[pair] += 1\n",
    "        else:\n",
    "            product_pairs[pair] = 1\n",
    "\n",
    "sorted_pairs = sorted(product_pairs.items(), key=lambda x: x[1], reverse=True)\n",
    "\n",
    "for pair, frequency in sorted_pairs[:10]:\n",
    "    print(f\"Products: {pair}, Frequency: {frequency}\")\n"
   ]
  },
  {
   "cell_type": "markdown",
   "id": "dc32b0a3",
   "metadata": {},
   "source": [
    "## which product was sold the most?"
   ]
  },
  {
   "cell_type": "code",
   "execution_count": 81,
   "id": "3190d772",
   "metadata": {},
   "outputs": [],
   "source": [
    "gproduct = df.groupby('Product')"
   ]
  },
  {
   "cell_type": "code",
   "execution_count": 85,
   "id": "66fc4e24",
   "metadata": {},
   "outputs": [
    {
     "data": {
      "text/plain": [
       "<Axes: xlabel='Product'>"
      ]
     },
     "execution_count": 85,
     "metadata": {},
     "output_type": "execute_result"
    },
    {
     "data": {
      "image/png": "[encoded data removed]",
      "text/plain": [
       "<Figure size 640x480 with 1 Axes>"
      ]
     },
     "metadata": {},
     "output_type": "display_data"
    }
   ],
   "source": [
    "gproduct['Quantity Ordered'].sum().sort_values(ascending = False).plot(kind = 'bar')"
   ]
  },
  {
   "cell_type": "markdown",
   "id": "5b6ee4e3",
   "metadata": {},
   "source": [
    "## here we can see that AAA Batteries (4-pack) was sold the most"
   ]
  },
  {
   "cell_type": "markdown",
   "id": "427973c2",
   "metadata": {},
   "source": [
    "# Insights Extracted:\n",
    "1. Total Amount Made in December: The total amount made during the month of December was $4,613,443.34.\n",
    "\n",
    "2. Total Amount Made in San Francisco: The total money made in San Francisco is $8,262,203.91.\n",
    "\n",
    "3. Peak Time for Customers: The highest number of customers came at 7 PM.\n",
    "\n",
    "4. Frequently Sold Together Products:\n",
    "    - ('iPhone', 'Lightning Charging Cable'): 1005 times\n",
    "    - ('Google Phone', 'USB-C Charging Cable'): 987 times\n",
    "    - ('iPhone', 'Wired Headphones'): 447 times\n",
    "    - ('Google Phone', 'Wired Headphones'): 414 times\n",
    "    - ('Vareebadd Phone', 'USB-C Charging Cable'): 361 times\n",
    "    - ('iPhone', 'Apple Airpods Headphones'): 360 times\n",
    "    - ('Google Phone', 'Bose SoundSport Headphones'): 220 times\n",
    "    - ('USB-C Charging Cable', 'Wired Headphones'): 160 times\n",
    "    - ('Vareebadd Phone', 'Wired Headphones'): 143 times\n",
    "    - ('Lightning Charging Cable', 'Wired Headphones'): 92 times\n",
    "\n",
    "5. Most Sold Product: AAA Batteries (4-pack) was sold the most.\n",
    "\n",
    "### Conclusion:\n",
    "- December was a profitable month, with total earnings of over $4.6 million.\n",
    "- San Francisco was the highest revenue-generating city, contributing over $8.2 million.\n",
    "- 7 PM was the peak time for customers, indicating potential opportunities for targeted marketing or promotions during this time.\n",
    "- The analysis of frequently sold together products provides insights into potential product bundles or cross-selling opportunities. For instance, items like iPhones and their compatible accessories (charging cables, headphones) are frequently purchased together, suggesting the possibility of bundling these items for promotions.\n",
    "- AAA Batteries (4-pack) emerged as the best-selling product, indicating its popularity among customers. This could be due to its practical use and affordability, making it a staple item for many customers."
   ]
  }
 ],
 "metadata": {
  "kernelspec": {
   "display_name": "Python 3 (ipykernel)",
   "language": "python",
   "name": "python3"
  },
  "language_info": {
   "codemirror_mode": {
    "name": "ipython",
    "version": 3
   },
   "file_extension": ".py",
   "mimetype": "text/x-python",
   "name": "python",
   "nbconvert_exporter": "python",
   "pygments_lexer": "ipython3",
   "version": "3.11.4"
  }
 },
 "nbformat": 4,
 "nbformat_minor": 5
}
